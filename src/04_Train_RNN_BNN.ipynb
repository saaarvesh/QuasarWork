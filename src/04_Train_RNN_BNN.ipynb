{
 "cells": [
  {
   "cell_type": "code",
   "execution_count": 1,
   "metadata": {
    "scrolled": true
   },
   "outputs": [],
   "source": [
    "%%capture\n",
    "%run 03_Model_RNN_BNN.ipynb"
   ]
  },
  {
   "cell_type": "code",
   "execution_count": 2,
   "metadata": {},
   "outputs": [],
   "source": [
    "BATCH_SIZE = 10"
   ]
  },
  {
   "cell_type": "markdown",
   "metadata": {},
   "source": [
    "# Input pipeline"
   ]
  },
  {
   "cell_type": "code",
   "execution_count": 3,
   "metadata": {
    "id": "1QB73FpeuaIn"
   },
   "outputs": [],
   "source": [
    "# prepare data generators using tf.data\n",
    "train_dataset = (\n",
    "    tf.data.Dataset.from_tensor_slices((z_train, mu_train))\n",
    "    #.shuffle(TRAIN_LENGTH, reshuffle_each_iteration=True)\n",
    "    .batch(BATCH_SIZE, drop_remainder=False)\n",
    ");\n",
    "\n",
    "#test_dataset = tf.data.Dataset.from_tensor_slices((z_test,mu_test)).batch(BATCH_SIZE);\n",
    "val_dataset = (\n",
    "    tf.data.Dataset.from_tensor_slices((z_val,mu_val))\n",
    "    .batch(BATCH_SIZE, drop_remainder=False)\n",
    ");"
   ]
  },
  {
   "cell_type": "markdown",
   "metadata": {},
   "source": [
    "# Train"
   ]
  },
  {
   "cell_type": "code",
   "execution_count": 4,
   "metadata": {
    "id": "XyvUcghbN8qH"
   },
   "outputs": [],
   "source": [
    "model = my_model(0.)"
   ]
  },
  {
   "cell_type": "code",
   "execution_count": 5,
   "metadata": {
    "id": "8HG_PcTwa8hf"
   },
   "outputs": [],
   "source": [
    "model.compile(\n",
    "    optimizer = tf.keras.optimizers.Adam(1e-3), \n",
    "    loss = tf.keras.losses.MeanSquaredError(), \n",
    "    metrics = tf.keras.metrics.RootMeanSquaredError())"
   ]
  },
  {
   "cell_type": "code",
   "execution_count": 6,
   "metadata": {
    "colab": {
     "base_uri": "https://localhost:8080/",
     "height": 1000
    },
    "id": "OwkIVKJgdwfo",
    "outputId": "b996fbeb-5a38-467c-d3c5-b81d2c581e60",
    "scrolled": false
   },
   "outputs": [
    {
     "name": "stdout",
     "output_type": "stream",
     "text": [
      "Epoch 1/1000\n",
      "26/31 [========================>.....] - ETA: 0s - loss: 0.8926 - root_mean_squared_error: 0.9448\n",
      "Epoch 1: val_loss improved from inf to 0.90515, saving model to ../out/quasar/lstm\\cp.ckpt\n",
      "31/31 [==============================] - 7s 70ms/step - loss: 0.8613 - root_mean_squared_error: 0.9280 - val_loss: 0.9052 - val_root_mean_squared_error: 0.9514\n",
      "Epoch 2/1000\n",
      "25/31 [=======================>......] - ETA: 0s - loss: 0.8169 - root_mean_squared_error: 0.9038\n",
      "Epoch 2: val_loss improved from 0.90515 to 0.79867, saving model to ../out/quasar/lstm\\cp.ckpt\n",
      "31/31 [==============================] - 1s 24ms/step - loss: 0.7715 - root_mean_squared_error: 0.8784 - val_loss: 0.7987 - val_root_mean_squared_error: 0.8937\n",
      "Epoch 3/1000\n",
      "27/31 [=========================>....] - ETA: 0s - loss: 0.7237 - root_mean_squared_error: 0.8507\n",
      "Epoch 3: val_loss improved from 0.79867 to 0.75120, saving model to ../out/quasar/lstm\\cp.ckpt\n",
      "31/31 [==============================] - 1s 19ms/step - loss: 0.6952 - root_mean_squared_error: 0.8338 - val_loss: 0.7512 - val_root_mean_squared_error: 0.8667\n",
      "Epoch 4/1000\n",
      "27/31 [=========================>....] - ETA: 0s - loss: 0.6910 - root_mean_squared_error: 0.8313\n",
      "Epoch 4: val_loss improved from 0.75120 to 0.72767, saving model to ../out/quasar/lstm\\cp.ckpt\n",
      "31/31 [==============================] - 1s 18ms/step - loss: 0.6658 - root_mean_squared_error: 0.8160 - val_loss: 0.7277 - val_root_mean_squared_error: 0.8530\n",
      "Epoch 5/1000\n",
      "27/31 [=========================>....] - ETA: 0s - loss: 0.6744 - root_mean_squared_error: 0.8212\n",
      "Epoch 5: val_loss improved from 0.72767 to 0.71188, saving model to ../out/quasar/lstm\\cp.ckpt\n",
      "31/31 [==============================] - 1s 19ms/step - loss: 0.6509 - root_mean_squared_error: 0.8068 - val_loss: 0.7119 - val_root_mean_squared_error: 0.8437\n",
      "Epoch 6/1000\n",
      "26/31 [========================>.....] - ETA: 0s - loss: 0.6608 - root_mean_squared_error: 0.8129\n",
      "Epoch 6: val_loss improved from 0.71188 to 0.69768, saving model to ../out/quasar/lstm\\cp.ckpt\n",
      "31/31 [==============================] - 1s 19ms/step - loss: 0.6406 - root_mean_squared_error: 0.8004 - val_loss: 0.6977 - val_root_mean_squared_error: 0.8353\n",
      "Epoch 7/1000\n",
      "30/31 [============================>.] - ETA: 0s - loss: 0.6363 - root_mean_squared_error: 0.7977\n",
      "Epoch 7: val_loss improved from 0.69768 to 0.68566, saving model to ../out/quasar/lstm\\cp.ckpt\n",
      "31/31 [==============================] - 1s 19ms/step - loss: 0.6321 - root_mean_squared_error: 0.7951 - val_loss: 0.6857 - val_root_mean_squared_error: 0.8280\n",
      "Epoch 8/1000\n",
      "31/31 [==============================] - ETA: 0s - loss: 0.6252 - root_mean_squared_error: 0.7907\n",
      "Epoch 8: val_loss improved from 0.68566 to 0.67538, saving model to ../out/quasar/lstm\\cp.ckpt\n",
      "31/31 [==============================] - 1s 21ms/step - loss: 0.6252 - root_mean_squared_error: 0.7907 - val_loss: 0.6754 - val_root_mean_squared_error: 0.8218\n",
      "Epoch 9/1000\n",
      "26/31 [========================>.....] - ETA: 0s - loss: 0.6381 - root_mean_squared_error: 0.7988\n",
      "Epoch 9: val_loss improved from 0.67538 to 0.66646, saving model to ../out/quasar/lstm\\cp.ckpt\n",
      "31/31 [==============================] - 1s 22ms/step - loss: 0.6194 - root_mean_squared_error: 0.7870 - val_loss: 0.6665 - val_root_mean_squared_error: 0.8164\n",
      "Epoch 10/1000\n",
      "30/31 [============================>.] - ETA: 0s - loss: 0.6183 - root_mean_squared_error: 0.7863\n",
      "Epoch 10: val_loss improved from 0.66646 to 0.65869, saving model to ../out/quasar/lstm\\cp.ckpt\n",
      "31/31 [==============================] - 1s 21ms/step - loss: 0.6147 - root_mean_squared_error: 0.7840 - val_loss: 0.6587 - val_root_mean_squared_error: 0.8116\n",
      "Epoch 11/1000\n",
      "27/31 [=========================>....] - ETA: 0s - loss: 0.6305 - root_mean_squared_error: 0.7940\n",
      "Epoch 11: val_loss improved from 0.65869 to 0.65189, saving model to ../out/quasar/lstm\\cp.ckpt\n",
      "31/31 [==============================] - 1s 19ms/step - loss: 0.6107 - root_mean_squared_error: 0.7815 - val_loss: 0.6519 - val_root_mean_squared_error: 0.8074\n",
      "Epoch 12/1000\n",
      "27/31 [=========================>....] - ETA: 0s - loss: 0.6269 - root_mean_squared_error: 0.7918\n",
      "Epoch 12: val_loss improved from 0.65189 to 0.64589, saving model to ../out/quasar/lstm\\cp.ckpt\n",
      "31/31 [==============================] - 1s 21ms/step - loss: 0.6074 - root_mean_squared_error: 0.7794 - val_loss: 0.6459 - val_root_mean_squared_error: 0.8037\n",
      "Epoch 13/1000\n",
      "27/31 [=========================>....] - ETA: 0s - loss: 0.6240 - root_mean_squared_error: 0.7899\n",
      "Epoch 13: val_loss improved from 0.64589 to 0.64050, saving model to ../out/quasar/lstm\\cp.ckpt\n",
      "31/31 [==============================] - 1s 21ms/step - loss: 0.6047 - root_mean_squared_error: 0.7776 - val_loss: 0.6405 - val_root_mean_squared_error: 0.8003\n",
      "Epoch 14/1000\n",
      "26/31 [========================>.....] - ETA: 0s - loss: 0.6197 - root_mean_squared_error: 0.7872\n",
      "Epoch 14: val_loss improved from 0.64050 to 0.63559, saving model to ../out/quasar/lstm\\cp.ckpt\n",
      "31/31 [==============================] - 1s 19ms/step - loss: 0.6023 - root_mean_squared_error: 0.7761 - val_loss: 0.6356 - val_root_mean_squared_error: 0.7972\n",
      "Epoch 15/1000\n",
      "27/31 [=========================>....] - ETA: 0s - loss: 0.6191 - root_mean_squared_error: 0.7869\n",
      "Epoch 15: val_loss improved from 0.63559 to 0.63111, saving model to ../out/quasar/lstm\\cp.ckpt\n",
      "31/31 [==============================] - 1s 18ms/step - loss: 0.6002 - root_mean_squared_error: 0.7747 - val_loss: 0.6311 - val_root_mean_squared_error: 0.7944\n",
      "Epoch 16/1000\n",
      "29/31 [===========================>..] - ETA: 0s - loss: 0.6069 - root_mean_squared_error: 0.7791\n",
      "Epoch 16: val_loss improved from 0.63111 to 0.62702, saving model to ../out/quasar/lstm\\cp.ckpt\n",
      "31/31 [==============================] - 1s 19ms/step - loss: 0.5982 - root_mean_squared_error: 0.7734 - val_loss: 0.6270 - val_root_mean_squared_error: 0.7918\n",
      "Epoch 17/1000\n",
      "27/31 [=========================>....] - ETA: 0s - loss: 0.6151 - root_mean_squared_error: 0.7843\n",
      "Epoch 17: val_loss improved from 0.62702 to 0.62333, saving model to ../out/quasar/lstm\\cp.ckpt\n",
      "31/31 [==============================] - 1s 20ms/step - loss: 0.5964 - root_mean_squared_error: 0.7723 - val_loss: 0.6233 - val_root_mean_squared_error: 0.7895\n",
      "Epoch 18/1000\n",
      "23/31 [=====================>........] - ETA: 0s - loss: 0.6259 - root_mean_squared_error: 0.7912\n",
      "Epoch 18: val_loss improved from 0.62333 to 0.61999, saving model to ../out/quasar/lstm\\cp.ckpt\n",
      "31/31 [==============================] - 1s 19ms/step - loss: 0.5947 - root_mean_squared_error: 0.7712 - val_loss: 0.6200 - val_root_mean_squared_error: 0.7874\n",
      "Epoch 19/1000\n",
      "27/31 [=========================>....] - ETA: 0s - loss: 0.6117 - root_mean_squared_error: 0.7821\n",
      "Epoch 19: val_loss improved from 0.61999 to 0.61698, saving model to ../out/quasar/lstm\\cp.ckpt\n",
      "31/31 [==============================] - 1s 19ms/step - loss: 0.5931 - root_mean_squared_error: 0.7701 - val_loss: 0.6170 - val_root_mean_squared_error: 0.7855\n",
      "Epoch 20/1000\n",
      "29/31 [===========================>..] - ETA: 0s - loss: 0.6003 - root_mean_squared_error: 0.7748\n",
      "Epoch 20: val_loss improved from 0.61698 to 0.61424, saving model to ../out/quasar/lstm\\cp.ckpt\n",
      "31/31 [==============================] - 1s 21ms/step - loss: 0.5916 - root_mean_squared_error: 0.7692 - val_loss: 0.6142 - val_root_mean_squared_error: 0.7837\n",
      "Epoch 21/1000\n",
      "28/31 [==========================>...] - ETA: 0s - loss: 0.6015 - root_mean_squared_error: 0.7755\n",
      "Epoch 21: val_loss improved from 0.61424 to 0.61176, saving model to ../out/quasar/lstm\\cp.ckpt\n",
      "31/31 [==============================] - 1s 20ms/step - loss: 0.5902 - root_mean_squared_error: 0.7682 - val_loss: 0.6118 - val_root_mean_squared_error: 0.7822\n",
      "Epoch 22/1000\n",
      "29/31 [===========================>..] - ETA: 0s - loss: 0.5976 - root_mean_squared_error: 0.7731\n",
      "Epoch 22: val_loss improved from 0.61176 to 0.60949, saving model to ../out/quasar/lstm\\cp.ckpt\n",
      "31/31 [==============================] - 1s 19ms/step - loss: 0.5889 - root_mean_squared_error: 0.7674 - val_loss: 0.6095 - val_root_mean_squared_error: 0.7807\n",
      "Epoch 23/1000\n",
      "27/31 [=========================>....] - ETA: 0s - loss: 0.6061 - root_mean_squared_error: 0.7785\n",
      "Epoch 23: val_loss improved from 0.60949 to 0.60742, saving model to ../out/quasar/lstm\\cp.ckpt\n",
      "31/31 [==============================] - 1s 21ms/step - loss: 0.5876 - root_mean_squared_error: 0.7666 - val_loss: 0.6074 - val_root_mean_squared_error: 0.7794\n",
      "Epoch 24/1000\n",
      "26/31 [========================>.....] - ETA: 0s - loss: 0.6036 - root_mean_squared_error: 0.7769\n",
      "Epoch 24: val_loss improved from 0.60742 to 0.60552, saving model to ../out/quasar/lstm\\cp.ckpt\n",
      "31/31 [==============================] - 1s 23ms/step - loss: 0.5864 - root_mean_squared_error: 0.7658 - val_loss: 0.6055 - val_root_mean_squared_error: 0.7782\n",
      "Epoch 25/1000\n",
      "25/31 [=======================>......] - ETA: 0s - loss: 0.6124 - root_mean_squared_error: 0.7825\n",
      "Epoch 25: val_loss improved from 0.60552 to 0.60377, saving model to ../out/quasar/lstm\\cp.ckpt\n",
      "31/31 [==============================] - 1s 19ms/step - loss: 0.5853 - root_mean_squared_error: 0.7650 - val_loss: 0.6038 - val_root_mean_squared_error: 0.7770\n",
      "Epoch 26/1000\n",
      "26/31 [========================>.....] - ETA: 0s - loss: 0.6014 - root_mean_squared_error: 0.7755\n",
      "Epoch 26: val_loss improved from 0.60377 to 0.60215, saving model to ../out/quasar/lstm\\cp.ckpt\n",
      "31/31 [==============================] - 1s 19ms/step - loss: 0.5842 - root_mean_squared_error: 0.7643 - val_loss: 0.6021 - val_root_mean_squared_error: 0.7760\n",
      "Epoch 27/1000\n",
      "31/31 [==============================] - ETA: 0s - loss: 0.5832 - root_mean_squared_error: 0.7637\n",
      "Epoch 27: val_loss improved from 0.60215 to 0.60065, saving model to ../out/quasar/lstm\\cp.ckpt\n",
      "31/31 [==============================] - 1s 22ms/step - loss: 0.5832 - root_mean_squared_error: 0.7637 - val_loss: 0.6006 - val_root_mean_squared_error: 0.7750\n",
      "Epoch 28/1000\n",
      "26/31 [========================>.....] - ETA: 0s - loss: 0.5995 - root_mean_squared_error: 0.7743\n",
      "Epoch 28: val_loss improved from 0.60065 to 0.59925, saving model to ../out/quasar/lstm\\cp.ckpt\n",
      "31/31 [==============================] - 1s 19ms/step - loss: 0.5822 - root_mean_squared_error: 0.7630 - val_loss: 0.5992 - val_root_mean_squared_error: 0.7741\n",
      "Epoch 29/1000\n",
      "29/31 [===========================>..] - ETA: 0s - loss: 0.5901 - root_mean_squared_error: 0.7682\n",
      "Epoch 29: val_loss improved from 0.59925 to 0.59794, saving model to ../out/quasar/lstm\\cp.ckpt\n",
      "31/31 [==============================] - 1s 22ms/step - loss: 0.5813 - root_mean_squared_error: 0.7624 - val_loss: 0.5979 - val_root_mean_squared_error: 0.7733\n",
      "Epoch 30/1000\n",
      "25/31 [=======================>......] - ETA: 0s - loss: 0.6076 - root_mean_squared_error: 0.7795\n",
      "Epoch 30: val_loss improved from 0.59794 to 0.59670, saving model to ../out/quasar/lstm\\cp.ckpt\n",
      "31/31 [==============================] - 1s 24ms/step - loss: 0.5804 - root_mean_squared_error: 0.7618 - val_loss: 0.5967 - val_root_mean_squared_error: 0.7725\n",
      "Epoch 31/1000\n",
      "30/31 [============================>.] - ETA: 0s - loss: 0.5836 - root_mean_squared_error: 0.7639\n",
      "Epoch 31: val_loss improved from 0.59670 to 0.59553, saving model to ../out/quasar/lstm\\cp.ckpt\n",
      "31/31 [==============================] - 1s 21ms/step - loss: 0.5796 - root_mean_squared_error: 0.7613 - val_loss: 0.5955 - val_root_mean_squared_error: 0.7717\n",
      "Epoch 32/1000\n",
      "26/31 [========================>.....] - ETA: 0s - loss: 0.5962 - root_mean_squared_error: 0.7721\n",
      "Epoch 32: val_loss improved from 0.59553 to 0.59443, saving model to ../out/quasar/lstm\\cp.ckpt\n",
      "31/31 [==============================] - 1s 20ms/step - loss: 0.5788 - root_mean_squared_error: 0.7608 - val_loss: 0.5944 - val_root_mean_squared_error: 0.7710\n",
      "Epoch 33/1000\n",
      "30/31 [============================>.] - ETA: 0s - loss: 0.5821 - root_mean_squared_error: 0.7630\n",
      "Epoch 33: val_loss improved from 0.59443 to 0.59338, saving model to ../out/quasar/lstm\\cp.ckpt\n",
      "31/31 [==============================] - 1s 22ms/step - loss: 0.5781 - root_mean_squared_error: 0.7603 - val_loss: 0.5934 - val_root_mean_squared_error: 0.7703\n",
      "Epoch 34/1000\n",
      "30/31 [============================>.] - ETA: 0s - loss: 0.5814 - root_mean_squared_error: 0.7625\n",
      "Epoch 34: val_loss improved from 0.59338 to 0.59238, saving model to ../out/quasar/lstm\\cp.ckpt\n",
      "31/31 [==============================] - 1s 21ms/step - loss: 0.5773 - root_mean_squared_error: 0.7598 - val_loss: 0.5924 - val_root_mean_squared_error: 0.7697\n",
      "Epoch 35/1000\n",
      "26/31 [========================>.....] - ETA: 0s - loss: 0.5941 - root_mean_squared_error: 0.7708\n",
      "Epoch 35: val_loss improved from 0.59238 to 0.59143, saving model to ../out/quasar/lstm\\cp.ckpt\n",
      "31/31 [==============================] - 1s 19ms/step - loss: 0.5767 - root_mean_squared_error: 0.7594 - val_loss: 0.5914 - val_root_mean_squared_error: 0.7690\n",
      "Epoch 36/1000\n",
      "28/31 [==========================>...] - ETA: 0s - loss: 0.5869 - root_mean_squared_error: 0.7661\n",
      "Epoch 36: val_loss improved from 0.59143 to 0.59053, saving model to ../out/quasar/lstm\\cp.ckpt\n",
      "31/31 [==============================] - 1s 19ms/step - loss: 0.5760 - root_mean_squared_error: 0.7590 - val_loss: 0.5905 - val_root_mean_squared_error: 0.7685\n",
      "Epoch 37/1000\n",
      "28/31 [==========================>...] - ETA: 0s - loss: 0.5863 - root_mean_squared_error: 0.7657\n",
      "Epoch 37: val_loss improved from 0.59053 to 0.58967, saving model to ../out/quasar/lstm\\cp.ckpt\n",
      "31/31 [==============================] - 1s 18ms/step - loss: 0.5754 - root_mean_squared_error: 0.7585 - val_loss: 0.5897 - val_root_mean_squared_error: 0.7679\n",
      "Epoch 38/1000\n",
      "28/31 [==========================>...] - ETA: 0s - loss: 0.5857 - root_mean_squared_error: 0.7653\n",
      "Epoch 38: val_loss improved from 0.58967 to 0.58885, saving model to ../out/quasar/lstm\\cp.ckpt\n",
      "31/31 [==============================] - 1s 18ms/step - loss: 0.5748 - root_mean_squared_error: 0.7581 - val_loss: 0.5888 - val_root_mean_squared_error: 0.7674\n",
      "Epoch 39/1000\n",
      "28/31 [==========================>...] - ETA: 0s - loss: 0.5851 - root_mean_squared_error: 0.7649\n",
      "Epoch 39: val_loss improved from 0.58885 to 0.58807, saving model to ../out/quasar/lstm\\cp.ckpt\n",
      "31/31 [==============================] - 1s 24ms/step - loss: 0.5742 - root_mean_squared_error: 0.7578 - val_loss: 0.5881 - val_root_mean_squared_error: 0.7669\n",
      "Epoch 40/1000\n",
      "23/31 [=====================>........] - ETA: 0s - loss: 0.6035 - root_mean_squared_error: 0.7769\n",
      "Epoch 40: val_loss improved from 0.58807 to 0.58732, saving model to ../out/quasar/lstm\\cp.ckpt\n",
      "31/31 [==============================] - 1s 19ms/step - loss: 0.5736 - root_mean_squared_error: 0.7574 - val_loss: 0.5873 - val_root_mean_squared_error: 0.7664\n",
      "Epoch 41/1000\n",
      "28/31 [==========================>...] - ETA: 0s - loss: 0.5840 - root_mean_squared_error: 0.7642\n",
      "Epoch 41: val_loss improved from 0.58732 to 0.58660, saving model to ../out/quasar/lstm\\cp.ckpt\n",
      "31/31 [==============================] - 1s 18ms/step - loss: 0.5731 - root_mean_squared_error: 0.7570 - val_loss: 0.5866 - val_root_mean_squared_error: 0.7659\n",
      "Epoch 42/1000\n",
      "28/31 [==========================>...] - ETA: 0s - loss: 0.5835 - root_mean_squared_error: 0.7638\n",
      "Epoch 42: val_loss improved from 0.58660 to 0.58592, saving model to ../out/quasar/lstm\\cp.ckpt\n",
      "31/31 [==============================] - 1s 18ms/step - loss: 0.5726 - root_mean_squared_error: 0.7567 - val_loss: 0.5859 - val_root_mean_squared_error: 0.7655\n",
      "Epoch 43/1000\n",
      "27/31 [=========================>....] - ETA: 0s - loss: 0.5906 - root_mean_squared_error: 0.7685\n",
      "Epoch 43: val_loss improved from 0.58592 to 0.58526, saving model to ../out/quasar/lstm\\cp.ckpt\n",
      "31/31 [==============================] - 1s 18ms/step - loss: 0.5720 - root_mean_squared_error: 0.7563 - val_loss: 0.5853 - val_root_mean_squared_error: 0.7650\n",
      "Epoch 44/1000\n",
      "27/31 [=========================>....] - ETA: 0s - loss: 0.5901 - root_mean_squared_error: 0.7682\n",
      "Epoch 44: val_loss improved from 0.58526 to 0.58464, saving model to ../out/quasar/lstm\\cp.ckpt\n",
      "31/31 [==============================] - 1s 18ms/step - loss: 0.5715 - root_mean_squared_error: 0.7560 - val_loss: 0.5846 - val_root_mean_squared_error: 0.7646\n",
      "Epoch 45/1000\n",
      "28/31 [==========================>...] - ETA: 0s - loss: 0.5820 - root_mean_squared_error: 0.7629\n",
      "Epoch 45: val_loss improved from 0.58464 to 0.58404, saving model to ../out/quasar/lstm\\cp.ckpt\n",
      "31/31 [==============================] - 1s 18ms/step - loss: 0.5711 - root_mean_squared_error: 0.7557 - val_loss: 0.5840 - val_root_mean_squared_error: 0.7642\n",
      "Epoch 46/1000\n",
      "29/31 [===========================>..] - ETA: 0s - loss: 0.5794 - root_mean_squared_error: 0.7612\n",
      "Epoch 46: val_loss improved from 0.58404 to 0.58346, saving model to ../out/quasar/lstm\\cp.ckpt\n",
      "31/31 [==============================] - 1s 19ms/step - loss: 0.5706 - root_mean_squared_error: 0.7554 - val_loss: 0.5835 - val_root_mean_squared_error: 0.7638\n",
      "Epoch 47/1000\n",
      "27/31 [=========================>....] - ETA: 0s - loss: 0.5887 - root_mean_squared_error: 0.7673\n",
      "Epoch 47: val_loss improved from 0.58346 to 0.58291, saving model to ../out/quasar/lstm\\cp.ckpt\n",
      "31/31 [==============================] - 1s 18ms/step - loss: 0.5702 - root_mean_squared_error: 0.7551 - val_loss: 0.5829 - val_root_mean_squared_error: 0.7635\n",
      "Epoch 48/1000\n",
      "27/31 [=========================>....] - ETA: 0s - loss: 0.5883 - root_mean_squared_error: 0.7670\n",
      "Epoch 48: val_loss improved from 0.58291 to 0.58238, saving model to ../out/quasar/lstm\\cp.ckpt\n",
      "31/31 [==============================] - 1s 20ms/step - loss: 0.5697 - root_mean_squared_error: 0.7548 - val_loss: 0.5824 - val_root_mean_squared_error: 0.7631\n",
      "Epoch 49/1000\n",
      "28/31 [==========================>...] - ETA: 0s - loss: 0.5802 - root_mean_squared_error: 0.7617\n",
      "Epoch 49: val_loss improved from 0.58238 to 0.58188, saving model to ../out/quasar/lstm\\cp.ckpt\n",
      "31/31 [==============================] - 1s 24ms/step - loss: 0.5693 - root_mean_squared_error: 0.7545 - val_loss: 0.5819 - val_root_mean_squared_error: 0.7628\n",
      "Epoch 50/1000\n",
      "30/31 [============================>.] - ETA: 0s - loss: 0.5732 - root_mean_squared_error: 0.7571\n",
      "Epoch 50: val_loss improved from 0.58188 to 0.58141, saving model to ../out/quasar/lstm\\cp.ckpt\n",
      "31/31 [==============================] - 1s 17ms/step - loss: 0.5689 - root_mean_squared_error: 0.7543 - val_loss: 0.5814 - val_root_mean_squared_error: 0.7625\n",
      "Epoch 51/1000\n",
      "28/31 [==========================>...] - ETA: 0s - loss: 0.5794 - root_mean_squared_error: 0.7612\n",
      "Epoch 51: val_loss improved from 0.58141 to 0.58096, saving model to ../out/quasar/lstm\\cp.ckpt\n",
      "31/31 [==============================] - 1s 20ms/step - loss: 0.5685 - root_mean_squared_error: 0.7540 - val_loss: 0.5810 - val_root_mean_squared_error: 0.7622\n",
      "Epoch 52/1000\n",
      "28/31 [==========================>...] - ETA: 0s - loss: 0.5791 - root_mean_squared_error: 0.7610\n",
      "Epoch 52: val_loss improved from 0.58096 to 0.58054, saving model to ../out/quasar/lstm\\cp.ckpt\n",
      "31/31 [==============================] - 1s 19ms/step - loss: 0.5681 - root_mean_squared_error: 0.7538 - val_loss: 0.5805 - val_root_mean_squared_error: 0.7619\n",
      "Epoch 53/1000\n",
      "29/31 [===========================>..] - ETA: 0s - loss: 0.5766 - root_mean_squared_error: 0.7593\n",
      "Epoch 53: val_loss improved from 0.58054 to 0.58015, saving model to ../out/quasar/lstm\\cp.ckpt\n",
      "31/31 [==============================] - 1s 18ms/step - loss: 0.5678 - root_mean_squared_error: 0.7535 - val_loss: 0.5801 - val_root_mean_squared_error: 0.7617\n",
      "Epoch 54/1000\n",
      "25/31 [=======================>......] - ETA: 0s - loss: 0.5941 - root_mean_squared_error: 0.7708\n",
      "Epoch 54: val_loss improved from 0.58015 to 0.57978, saving model to ../out/quasar/lstm\\cp.ckpt\n",
      "31/31 [==============================] - 1s 19ms/step - loss: 0.5674 - root_mean_squared_error: 0.7533 - val_loss: 0.5798 - val_root_mean_squared_error: 0.7614\n",
      "Epoch 55/1000\n",
      "27/31 [=========================>....] - ETA: 0s - loss: 0.5856 - root_mean_squared_error: 0.7652\n",
      "Epoch 55: val_loss improved from 0.57978 to 0.57944, saving model to ../out/quasar/lstm\\cp.ckpt\n",
      "31/31 [==============================] - 1s 18ms/step - loss: 0.5671 - root_mean_squared_error: 0.7531 - val_loss: 0.5794 - val_root_mean_squared_error: 0.7612\n",
      "Epoch 56/1000\n",
      "27/31 [=========================>....] - ETA: 0s - loss: 0.5852 - root_mean_squared_error: 0.7650\n",
      "Epoch 56: val_loss improved from 0.57944 to 0.57911, saving model to ../out/quasar/lstm\\cp.ckpt\n",
      "31/31 [==============================] - 1s 19ms/step - loss: 0.5668 - root_mean_squared_error: 0.7529 - val_loss: 0.5791 - val_root_mean_squared_error: 0.7610\n",
      "Epoch 57/1000\n",
      "29/31 [===========================>..] - ETA: 0s - loss: 0.5754 - root_mean_squared_error: 0.7585\n",
      "Epoch 57: val_loss improved from 0.57911 to 0.57881, saving model to ../out/quasar/lstm\\cp.ckpt\n",
      "31/31 [==============================] - 1s 21ms/step - loss: 0.5665 - root_mean_squared_error: 0.7527 - val_loss: 0.5788 - val_root_mean_squared_error: 0.7608\n",
      "Epoch 58/1000\n",
      "27/31 [=========================>....] - ETA: 0s - loss: 0.5846 - root_mean_squared_error: 0.7646\n",
      "Epoch 58: val_loss improved from 0.57881 to 0.57853, saving model to ../out/quasar/lstm\\cp.ckpt\n",
      "31/31 [==============================] - 1s 18ms/step - loss: 0.5662 - root_mean_squared_error: 0.7525 - val_loss: 0.5785 - val_root_mean_squared_error: 0.7606\n",
      "Epoch 59/1000\n",
      "30/31 [============================>.] - ETA: 0s - loss: 0.5702 - root_mean_squared_error: 0.7551\n",
      "Epoch 59: val_loss improved from 0.57853 to 0.57826, saving model to ../out/quasar/lstm\\cp.ckpt\n",
      "31/31 [==============================] - 1s 20ms/step - loss: 0.5660 - root_mean_squared_error: 0.7523 - val_loss: 0.5783 - val_root_mean_squared_error: 0.7604\n",
      "Epoch 60/1000\n",
      "30/31 [============================>.] - ETA: 0s - loss: 0.5700 - root_mean_squared_error: 0.7550\n",
      "Epoch 60: val_loss improved from 0.57826 to 0.57801, saving model to ../out/quasar/lstm\\cp.ckpt\n",
      "31/31 [==============================] - 1s 19ms/step - loss: 0.5657 - root_mean_squared_error: 0.7521 - val_loss: 0.5780 - val_root_mean_squared_error: 0.7603\n",
      "Epoch 61/1000\n",
      "29/31 [===========================>..] - ETA: 0s - loss: 0.5743 - root_mean_squared_error: 0.7578\n",
      "Epoch 61: val_loss improved from 0.57801 to 0.57777, saving model to ../out/quasar/lstm\\cp.ckpt\n",
      "31/31 [==============================] - 1s 19ms/step - loss: 0.5655 - root_mean_squared_error: 0.7520 - val_loss: 0.5778 - val_root_mean_squared_error: 0.7601\n",
      "Epoch 62/1000\n",
      "27/31 [=========================>....] - ETA: 0s - loss: 0.5834 - root_mean_squared_error: 0.7638\n",
      "Epoch 62: val_loss improved from 0.57777 to 0.57754, saving model to ../out/quasar/lstm\\cp.ckpt\n",
      "31/31 [==============================] - 1s 17ms/step - loss: 0.5652 - root_mean_squared_error: 0.7518 - val_loss: 0.5775 - val_root_mean_squared_error: 0.7600\n",
      "Epoch 63/1000\n",
      "26/31 [========================>.....] - ETA: 0s - loss: 0.5818 - root_mean_squared_error: 0.7627\n",
      "Epoch 63: val_loss improved from 0.57754 to 0.57733, saving model to ../out/quasar/lstm\\cp.ckpt\n",
      "31/31 [==============================] - 1s 18ms/step - loss: 0.5650 - root_mean_squared_error: 0.7517 - val_loss: 0.5773 - val_root_mean_squared_error: 0.7598\n",
      "Epoch 64/1000\n",
      "26/31 [========================>.....] - ETA: 0s - loss: 0.5815 - root_mean_squared_error: 0.7626\n",
      "Epoch 64: val_loss improved from 0.57733 to 0.57712, saving model to ../out/quasar/lstm\\cp.ckpt\n",
      "31/31 [==============================] - 1s 18ms/step - loss: 0.5648 - root_mean_squared_error: 0.7515 - val_loss: 0.5771 - val_root_mean_squared_error: 0.7597\n",
      "Epoch 65/1000\n",
      "28/31 [==========================>...] - ETA: 0s - loss: 0.5754 - root_mean_squared_error: 0.7586\n",
      "Epoch 65: val_loss improved from 0.57712 to 0.57692, saving model to ../out/quasar/lstm\\cp.ckpt\n",
      "31/31 [==============================] - 1s 18ms/step - loss: 0.5645 - root_mean_squared_error: 0.7514 - val_loss: 0.5769 - val_root_mean_squared_error: 0.7596\n",
      "Epoch 66/1000\n",
      "27/31 [=========================>....] - ETA: 0s - loss: 0.5823 - root_mean_squared_error: 0.7631\n",
      "Epoch 66: val_loss improved from 0.57692 to 0.57672, saving model to ../out/quasar/lstm\\cp.ckpt\n",
      "31/31 [==============================] - 1s 19ms/step - loss: 0.5643 - root_mean_squared_error: 0.7512 - val_loss: 0.5767 - val_root_mean_squared_error: 0.7594\n",
      "Epoch 67/1000\n",
      "27/31 [=========================>....] - ETA: 0s - loss: 0.5821 - root_mean_squared_error: 0.7630\n",
      "Epoch 67: val_loss improved from 0.57672 to 0.57654, saving model to ../out/quasar/lstm\\cp.ckpt\n",
      "31/31 [==============================] - 1s 21ms/step - loss: 0.5641 - root_mean_squared_error: 0.7511 - val_loss: 0.5765 - val_root_mean_squared_error: 0.7593\n",
      "Epoch 68/1000\n",
      "27/31 [=========================>....] - ETA: 0s - loss: 0.5818 - root_mean_squared_error: 0.7628\n",
      "Epoch 68: val_loss improved from 0.57654 to 0.57636, saving model to ../out/quasar/lstm\\cp.ckpt\n",
      "31/31 [==============================] - 1s 21ms/step - loss: 0.5639 - root_mean_squared_error: 0.7509 - val_loss: 0.5764 - val_root_mean_squared_error: 0.7592\n",
      "Epoch 69/1000\n",
      "26/31 [========================>.....] - ETA: 0s - loss: 0.5802 - root_mean_squared_error: 0.7617\n",
      "Epoch 69: val_loss improved from 0.57636 to 0.57619, saving model to ../out/quasar/lstm\\cp.ckpt\n",
      "31/31 [==============================] - 1s 19ms/step - loss: 0.5637 - root_mean_squared_error: 0.7508 - val_loss: 0.5762 - val_root_mean_squared_error: 0.7591\n",
      "Epoch 70/1000\n",
      "26/31 [========================>.....] - ETA: 0s - loss: 0.5799 - root_mean_squared_error: 0.7615\n",
      "Epoch 70: val_loss improved from 0.57619 to 0.57602, saving model to ../out/quasar/lstm\\cp.ckpt\n",
      "31/31 [==============================] - 1s 19ms/step - loss: 0.5635 - root_mean_squared_error: 0.7507 - val_loss: 0.5760 - val_root_mean_squared_error: 0.7590\n",
      "Epoch 71/1000\n",
      "31/31 [==============================] - ETA: 0s - loss: 0.5633 - root_mean_squared_error: 0.7505\n",
      "Epoch 71: val_loss improved from 0.57602 to 0.57586, saving model to ../out/quasar/lstm\\cp.ckpt\n",
      "31/31 [==============================] - 1s 21ms/step - loss: 0.5633 - root_mean_squared_error: 0.7505 - val_loss: 0.5759 - val_root_mean_squared_error: 0.7589\n",
      "Epoch 72/1000\n",
      "26/31 [========================>.....] - ETA: 0s - loss: 0.5794 - root_mean_squared_error: 0.7612\n",
      "Epoch 72: val_loss improved from 0.57586 to 0.57571, saving model to ../out/quasar/lstm\\cp.ckpt\n",
      "31/31 [==============================] - 1s 18ms/step - loss: 0.5631 - root_mean_squared_error: 0.7504 - val_loss: 0.5757 - val_root_mean_squared_error: 0.7588\n",
      "Epoch 73/1000\n",
      "29/31 [===========================>..] - ETA: 0s - loss: 0.5717 - root_mean_squared_error: 0.7561\n",
      "Epoch 73: val_loss improved from 0.57571 to 0.57556, saving model to ../out/quasar/lstm\\cp.ckpt\n",
      "31/31 [==============================] - 1s 17ms/step - loss: 0.5629 - root_mean_squared_error: 0.7503 - val_loss: 0.5756 - val_root_mean_squared_error: 0.7587\n",
      "Epoch 74/1000\n",
      "27/31 [=========================>....] - ETA: 0s - loss: 0.5804 - root_mean_squared_error: 0.7619\n",
      "Epoch 74: val_loss improved from 0.57556 to 0.57543, saving model to ../out/quasar/lstm\\cp.ckpt\n",
      "31/31 [==============================] - 1s 17ms/step - loss: 0.5628 - root_mean_squared_error: 0.7502 - val_loss: 0.5754 - val_root_mean_squared_error: 0.7586\n",
      "Epoch 75/1000\n",
      "27/31 [=========================>....] - ETA: 0s - loss: 0.5802 - root_mean_squared_error: 0.7617\n",
      "Epoch 75: val_loss improved from 0.57543 to 0.57531, saving model to ../out/quasar/lstm\\cp.ckpt\n",
      "31/31 [==============================] - 1s 21ms/step - loss: 0.5626 - root_mean_squared_error: 0.7501 - val_loss: 0.5753 - val_root_mean_squared_error: 0.7585\n",
      "Epoch 76/1000\n",
      "28/31 [==========================>...] - ETA: 0s - loss: 0.5731 - root_mean_squared_error: 0.7570\n",
      "Epoch 76: val_loss improved from 0.57531 to 0.57520, saving model to ../out/quasar/lstm\\cp.ckpt\n",
      "31/31 [==============================] - 1s 19ms/step - loss: 0.5624 - root_mean_squared_error: 0.7499 - val_loss: 0.5752 - val_root_mean_squared_error: 0.7584\n",
      "Epoch 77/1000\n",
      "28/31 [==========================>...] - ETA: 0s - loss: 0.5729 - root_mean_squared_error: 0.7569\n",
      "Epoch 77: val_loss improved from 0.57520 to 0.57511, saving model to ../out/quasar/lstm\\cp.ckpt\n",
      "31/31 [==============================] - 1s 19ms/step - loss: 0.5623 - root_mean_squared_error: 0.7498 - val_loss: 0.5751 - val_root_mean_squared_error: 0.7584\n",
      "Epoch 78/1000\n",
      "24/31 [======================>.......] - ETA: 0s - loss: 0.5876 - root_mean_squared_error: 0.7666\n",
      "Epoch 78: val_loss improved from 0.57511 to 0.57502, saving model to ../out/quasar/lstm\\cp.ckpt\n",
      "31/31 [==============================] - 1s 21ms/step - loss: 0.5621 - root_mean_squared_error: 0.7497 - val_loss: 0.5750 - val_root_mean_squared_error: 0.7583\n",
      "Epoch 79/1000\n",
      "28/31 [==========================>...] - ETA: 0s - loss: 0.5725 - root_mean_squared_error: 0.7567\n",
      "Epoch 79: val_loss improved from 0.57502 to 0.57494, saving model to ../out/quasar/lstm\\cp.ckpt\n",
      "31/31 [==============================] - 1s 18ms/step - loss: 0.5619 - root_mean_squared_error: 0.7496 - val_loss: 0.5749 - val_root_mean_squared_error: 0.7583\n",
      "Epoch 80/1000\n",
      "27/31 [=========================>....] - ETA: 0s - loss: 0.5792 - root_mean_squared_error: 0.7610\n",
      "Epoch 80: val_loss improved from 0.57494 to 0.57488, saving model to ../out/quasar/lstm\\cp.ckpt\n",
      "31/31 [==============================] - 1s 18ms/step - loss: 0.5618 - root_mean_squared_error: 0.7495 - val_loss: 0.5749 - val_root_mean_squared_error: 0.7582\n",
      "Epoch 81/1000\n",
      "28/31 [==========================>...] - ETA: 0s - loss: 0.5722 - root_mean_squared_error: 0.7564\n",
      "Epoch 81: val_loss improved from 0.57488 to 0.57481, saving model to ../out/quasar/lstm\\cp.ckpt\n",
      "31/31 [==============================] - 1s 20ms/step - loss: 0.5616 - root_mean_squared_error: 0.7494 - val_loss: 0.5748 - val_root_mean_squared_error: 0.7582\n",
      "Epoch 82/1000\n",
      "30/31 [============================>.] - ETA: 0s - loss: 0.5656 - root_mean_squared_error: 0.7521\n",
      "Epoch 82: val_loss improved from 0.57481 to 0.57476, saving model to ../out/quasar/lstm\\cp.ckpt\n",
      "31/31 [==============================] - 1s 22ms/step - loss: 0.5615 - root_mean_squared_error: 0.7493 - val_loss: 0.5748 - val_root_mean_squared_error: 0.7581\n",
      "Epoch 83/1000\n",
      "27/31 [=========================>....] - ETA: 0s - loss: 0.5786 - root_mean_squared_error: 0.7607\n",
      "Epoch 83: val_loss improved from 0.57476 to 0.57471, saving model to ../out/quasar/lstm\\cp.ckpt\n",
      "31/31 [==============================] - 1s 19ms/step - loss: 0.5613 - root_mean_squared_error: 0.7492 - val_loss: 0.5747 - val_root_mean_squared_error: 0.7581\n",
      "Epoch 84/1000\n",
      "26/31 [========================>.....] - ETA: 0s - loss: 0.5768 - root_mean_squared_error: 0.7595\n",
      "Epoch 84: val_loss improved from 0.57471 to 0.57466, saving model to ../out/quasar/lstm\\cp.ckpt\n",
      "31/31 [==============================] - 1s 19ms/step - loss: 0.5612 - root_mean_squared_error: 0.7491 - val_loss: 0.5747 - val_root_mean_squared_error: 0.7581\n",
      "Epoch 85/1000\n",
      "26/31 [========================>.....] - ETA: 0s - loss: 0.5766 - root_mean_squared_error: 0.7593\n",
      "Epoch 85: val_loss improved from 0.57466 to 0.57462, saving model to ../out/quasar/lstm\\cp.ckpt\n",
      "31/31 [==============================] - 1s 20ms/step - loss: 0.5610 - root_mean_squared_error: 0.7490 - val_loss: 0.5746 - val_root_mean_squared_error: 0.7580\n",
      "Epoch 86/1000\n",
      "30/31 [============================>.] - ETA: 0s - loss: 0.5650 - root_mean_squared_error: 0.7517\n",
      "Epoch 86: val_loss improved from 0.57462 to 0.57458, saving model to ../out/quasar/lstm\\cp.ckpt\n",
      "31/31 [==============================] - 1s 21ms/step - loss: 0.5609 - root_mean_squared_error: 0.7489 - val_loss: 0.5746 - val_root_mean_squared_error: 0.7580\n",
      "Epoch 87/1000\n",
      "27/31 [=========================>....] - ETA: 0s - loss: 0.5779 - root_mean_squared_error: 0.7602\n",
      "Epoch 87: val_loss improved from 0.57458 to 0.57455, saving model to ../out/quasar/lstm\\cp.ckpt\n",
      "31/31 [==============================] - 1s 18ms/step - loss: 0.5608 - root_mean_squared_error: 0.7489 - val_loss: 0.5745 - val_root_mean_squared_error: 0.7580\n",
      "Epoch 88/1000\n",
      "27/31 [=========================>....] - ETA: 0s - loss: 0.5778 - root_mean_squared_error: 0.7601\n",
      "Epoch 88: val_loss improved from 0.57455 to 0.57451, saving model to ../out/quasar/lstm\\cp.ckpt\n",
      "31/31 [==============================] - 1s 18ms/step - loss: 0.5607 - root_mean_squared_error: 0.7488 - val_loss: 0.5745 - val_root_mean_squared_error: 0.7580\n",
      "Epoch 89/1000\n",
      "27/31 [=========================>....] - ETA: 0s - loss: 0.5776 - root_mean_squared_error: 0.7600\n",
      "Epoch 89: val_loss improved from 0.57451 to 0.57447, saving model to ../out/quasar/lstm\\cp.ckpt\n",
      "31/31 [==============================] - 1s 17ms/step - loss: 0.5605 - root_mean_squared_error: 0.7487 - val_loss: 0.5745 - val_root_mean_squared_error: 0.7579\n",
      "Epoch 90/1000\n",
      "29/31 [===========================>..] - ETA: 0s - loss: 0.5690 - root_mean_squared_error: 0.7543\n",
      "Epoch 90: val_loss improved from 0.57447 to 0.57444, saving model to ../out/quasar/lstm\\cp.ckpt\n",
      "31/31 [==============================] - 1s 18ms/step - loss: 0.5604 - root_mean_squared_error: 0.7486 - val_loss: 0.5744 - val_root_mean_squared_error: 0.7579\n",
      "Epoch 91/1000\n",
      "31/31 [==============================] - ETA: 0s - loss: 0.5603 - root_mean_squared_error: 0.7485\n",
      "Epoch 91: val_loss improved from 0.57444 to 0.57440, saving model to ../out/quasar/lstm\\cp.ckpt\n",
      "31/31 [==============================] - 1s 18ms/step - loss: 0.5603 - root_mean_squared_error: 0.7485 - val_loss: 0.5744 - val_root_mean_squared_error: 0.7579\n",
      "Epoch 92/1000\n",
      "27/31 [=========================>....] - ETA: 0s - loss: 0.5772 - root_mean_squared_error: 0.7597\n",
      "Epoch 92: val_loss improved from 0.57440 to 0.57436, saving model to ../out/quasar/lstm\\cp.ckpt\n",
      "31/31 [==============================] - 1s 26ms/step - loss: 0.5602 - root_mean_squared_error: 0.7484 - val_loss: 0.5744 - val_root_mean_squared_error: 0.7579\n",
      "Epoch 93/1000\n",
      "27/31 [=========================>....] - ETA: 0s - loss: 0.5770 - root_mean_squared_error: 0.7596\n",
      "Epoch 93: val_loss improved from 0.57436 to 0.57433, saving model to ../out/quasar/lstm\\cp.ckpt\n",
      "31/31 [==============================] - 1s 19ms/step - loss: 0.5600 - root_mean_squared_error: 0.7484 - val_loss: 0.5743 - val_root_mean_squared_error: 0.7578\n",
      "Epoch 94/1000\n",
      "28/31 [==========================>...] - ETA: 0s - loss: 0.5703 - root_mean_squared_error: 0.7552\n",
      "Epoch 94: val_loss improved from 0.57433 to 0.57429, saving model to ../out/quasar/lstm\\cp.ckpt\n",
      "31/31 [==============================] - 1s 17ms/step - loss: 0.5599 - root_mean_squared_error: 0.7483 - val_loss: 0.5743 - val_root_mean_squared_error: 0.7578\n",
      "Epoch 95/1000\n",
      "27/31 [=========================>....] - ETA: 0s - loss: 0.5767 - root_mean_squared_error: 0.7594\n",
      "Epoch 95: val_loss improved from 0.57429 to 0.57426, saving model to ../out/quasar/lstm\\cp.ckpt\n",
      "31/31 [==============================] - 1s 18ms/step - loss: 0.5598 - root_mean_squared_error: 0.7482 - val_loss: 0.5743 - val_root_mean_squared_error: 0.7578\n",
      "Epoch 96/1000\n",
      "24/31 [======================>.......] - ETA: 0s - loss: 0.5843 - root_mean_squared_error: 0.7644\n",
      "Epoch 96: val_loss improved from 0.57426 to 0.57422, saving model to ../out/quasar/lstm\\cp.ckpt\n",
      "31/31 [==============================] - 1s 19ms/step - loss: 0.5597 - root_mean_squared_error: 0.7481 - val_loss: 0.5742 - val_root_mean_squared_error: 0.7578\n",
      "Epoch 97/1000\n",
      "28/31 [==========================>...] - ETA: 0s - loss: 0.5700 - root_mean_squared_error: 0.7550\n",
      "Epoch 97: val_loss improved from 0.57422 to 0.57419, saving model to ../out/quasar/lstm\\cp.ckpt\n",
      "31/31 [==============================] - 1s 19ms/step - loss: 0.5596 - root_mean_squared_error: 0.7481 - val_loss: 0.5742 - val_root_mean_squared_error: 0.7578\n",
      "Epoch 98/1000\n",
      "28/31 [==========================>...] - ETA: 0s - loss: 0.5699 - root_mean_squared_error: 0.7549\n",
      "Epoch 98: val_loss improved from 0.57419 to 0.57416, saving model to ../out/quasar/lstm\\cp.ckpt\n",
      "31/31 [==============================] - 1s 19ms/step - loss: 0.5595 - root_mean_squared_error: 0.7480 - val_loss: 0.5742 - val_root_mean_squared_error: 0.7577\n",
      "Epoch 99/1000\n",
      "25/31 [=======================>......] - ETA: 0s - loss: 0.5839 - root_mean_squared_error: 0.7641\n",
      "Epoch 99: val_loss improved from 0.57416 to 0.57413, saving model to ../out/quasar/lstm\\cp.ckpt\n",
      "31/31 [==============================] - 1s 19ms/step - loss: 0.5594 - root_mean_squared_error: 0.7479 - val_loss: 0.5741 - val_root_mean_squared_error: 0.7577\n",
      "Epoch 100/1000\n",
      "26/31 [========================>.....] - ETA: 0s - loss: 0.5743 - root_mean_squared_error: 0.7578\n",
      "Epoch 100: val_loss improved from 0.57413 to 0.57410, saving model to ../out/quasar/lstm\\cp.ckpt\n",
      "31/31 [==============================] - 1s 20ms/step - loss: 0.5593 - root_mean_squared_error: 0.7479 - val_loss: 0.5741 - val_root_mean_squared_error: 0.7577\n",
      "Epoch 101/1000\n",
      "25/31 [=======================>......] - ETA: 0s - loss: 0.5836 - root_mean_squared_error: 0.7639\n",
      "Epoch 101: val_loss improved from 0.57410 to 0.57408, saving model to ../out/quasar/lstm\\cp.ckpt\n",
      "31/31 [==============================] - 1s 21ms/step - loss: 0.5592 - root_mean_squared_error: 0.7478 - val_loss: 0.5741 - val_root_mean_squared_error: 0.7577\n",
      "Epoch 102/1000\n",
      "26/31 [========================>.....] - ETA: 0s - loss: 0.5741 - root_mean_squared_error: 0.7577\n",
      "Epoch 102: val_loss improved from 0.57408 to 0.57405, saving model to ../out/quasar/lstm\\cp.ckpt\n",
      "31/31 [==============================] - 1s 20ms/step - loss: 0.5591 - root_mean_squared_error: 0.7477 - val_loss: 0.5741 - val_root_mean_squared_error: 0.7577\n",
      "Epoch 103/1000\n",
      "25/31 [=======================>......] - ETA: 0s - loss: 0.5834 - root_mean_squared_error: 0.7638\n",
      "Epoch 103: val_loss improved from 0.57405 to 0.57403, saving model to ../out/quasar/lstm\\cp.ckpt\n",
      "31/31 [==============================] - 1s 19ms/step - loss: 0.5590 - root_mean_squared_error: 0.7477 - val_loss: 0.5740 - val_root_mean_squared_error: 0.7576\n",
      "Epoch 104/1000\n",
      "28/31 [==========================>...] - ETA: 0s - loss: 0.5692 - root_mean_squared_error: 0.7545\n",
      "Epoch 104: val_loss improved from 0.57403 to 0.57402, saving model to ../out/quasar/lstm\\cp.ckpt\n",
      "31/31 [==============================] - 1s 19ms/step - loss: 0.5589 - root_mean_squared_error: 0.7476 - val_loss: 0.5740 - val_root_mean_squared_error: 0.7576\n",
      "Epoch 105/1000\n",
      "27/31 [=========================>....] - ETA: 0s - loss: 0.5755 - root_mean_squared_error: 0.7586\n",
      "Epoch 105: val_loss improved from 0.57402 to 0.57400, saving model to ../out/quasar/lstm\\cp.ckpt\n",
      "31/31 [==============================] - 1s 19ms/step - loss: 0.5588 - root_mean_squared_error: 0.7475 - val_loss: 0.5740 - val_root_mean_squared_error: 0.7576\n",
      "Epoch 106/1000\n",
      "25/31 [=======================>......] - ETA: 0s - loss: 0.5830 - root_mean_squared_error: 0.7635\n",
      "Epoch 106: val_loss improved from 0.57400 to 0.57399, saving model to ../out/quasar/lstm\\cp.ckpt\n",
      "31/31 [==============================] - 1s 18ms/step - loss: 0.5587 - root_mean_squared_error: 0.7475 - val_loss: 0.5740 - val_root_mean_squared_error: 0.7576\n",
      "Epoch 107/1000\n",
      "27/31 [=========================>....] - ETA: 0s - loss: 0.5753 - root_mean_squared_error: 0.7585\n",
      "Epoch 107: val_loss improved from 0.57399 to 0.57398, saving model to ../out/quasar/lstm\\cp.ckpt\n",
      "31/31 [==============================] - 1s 21ms/step - loss: 0.5586 - root_mean_squared_error: 0.7474 - val_loss: 0.5740 - val_root_mean_squared_error: 0.7576\n",
      "Epoch 108/1000\n",
      "31/31 [==============================] - ETA: 0s - loss: 0.5585 - root_mean_squared_error: 0.7473\n",
      "Epoch 108: val_loss improved from 0.57398 to 0.57398, saving model to ../out/quasar/lstm\\cp.ckpt\n",
      "31/31 [==============================] - 1s 18ms/step - loss: 0.5585 - root_mean_squared_error: 0.7473 - val_loss: 0.5740 - val_root_mean_squared_error: 0.7576\n",
      "Epoch 109/1000\n",
      "26/31 [========================>.....] - ETA: 0s - loss: 0.5733 - root_mean_squared_error: 0.7572\n",
      "Epoch 109: val_loss improved from 0.57398 to 0.57398, saving model to ../out/quasar/lstm\\cp.ckpt\n",
      "31/31 [==============================] - 1s 23ms/step - loss: 0.5584 - root_mean_squared_error: 0.7473 - val_loss: 0.5740 - val_root_mean_squared_error: 0.7576\n",
      "Epoch 110/1000\n",
      "27/31 [=========================>....] - ETA: 0s - loss: 0.5750 - root_mean_squared_error: 0.7583\n",
      "Epoch 110: val_loss did not improve from 0.57398\n",
      "31/31 [==============================] - 0s 11ms/step - loss: 0.5583 - root_mean_squared_error: 0.7472 - val_loss: 0.5740 - val_root_mean_squared_error: 0.7576\n",
      "Epoch 111/1000\n",
      "25/31 [=======================>......] - ETA: 0s - loss: 0.5825 - root_mean_squared_error: 0.7632\n",
      "Epoch 111: val_loss did not improve from 0.57398\n",
      "31/31 [==============================] - 0s 11ms/step - loss: 0.5583 - root_mean_squared_error: 0.7472 - val_loss: 0.5740 - val_root_mean_squared_error: 0.7576\n",
      "Epoch 112/1000\n",
      "30/31 [============================>.] - ETA: 0s - loss: 0.5623 - root_mean_squared_error: 0.7499\n",
      "Epoch 112: val_loss did not improve from 0.57398\n",
      "31/31 [==============================] - 0s 11ms/step - loss: 0.5582 - root_mean_squared_error: 0.7471 - val_loss: 0.5740 - val_root_mean_squared_error: 0.7576\n",
      "Epoch 113/1000\n",
      "31/31 [==============================] - ETA: 0s - loss: 0.5581 - root_mean_squared_error: 0.7471\n",
      "Epoch 113: val_loss did not improve from 0.57398\n",
      "31/31 [==============================] - 0s 10ms/step - loss: 0.5581 - root_mean_squared_error: 0.7471 - val_loss: 0.5740 - val_root_mean_squared_error: 0.7576\n",
      "Epoch 114/1000\n",
      "29/31 [===========================>..] - ETA: 0s - loss: 0.5664 - root_mean_squared_error: 0.7526\n",
      "Epoch 114: val_loss did not improve from 0.57398\n",
      "31/31 [==============================] - 0s 14ms/step - loss: 0.5580 - root_mean_squared_error: 0.7470 - val_loss: 0.5740 - val_root_mean_squared_error: 0.7576\n",
      "Epoch 114: early stopping\n"
     ]
    }
   ],
   "source": [
    "# Create a callback that saves the model's weights\n",
    "checkpoint = tf.keras.callbacks.ModelCheckpoint(\n",
    "    os.path.join(out_dir,'cp.ckpt'), \n",
    "    monitor='val_loss', \n",
    "    save_weights_only=True, \n",
    "    verbose=1, \n",
    "    save_best_only=True\n",
    "    )\n",
    "\n",
    "reduce_lr = tf.keras.callbacks.ReduceLROnPlateau(\n",
    "    monitor='val_loss', factor=0.1, patience=10, verbose=1,\n",
    "    mode='auto', min_delta=0.0001, cooldown=0, min_lr=1e-10\n",
    ")\n",
    "\n",
    "early_stopping = [\n",
    "    tf.keras.callbacks.EarlyStopping(\n",
    "        # Stop training when `val_loss` is no longer improving\n",
    "        monitor=\"val_loss\",\n",
    "        # \"no longer improving\" being defined as \"no better than 1e-2 less\"\n",
    "        min_delta=0,\n",
    "        # \"no longer improving\" being further defined as \"for at least 2 epochs\"\n",
    "        patience=5,\n",
    "        verbose=1\n",
    "    )\n",
    "]\n",
    "epochs = 1000\n",
    "model_history = model.fit(train_dataset,\n",
    "                          epochs = epochs,\n",
    "                          validation_data = val_dataset,\n",
    "                          callbacks = [checkpoint, early_stopping]\n",
    "                          )"
   ]
  },
  {
   "cell_type": "code",
   "execution_count": 23,
   "metadata": {},
   "outputs": [],
   "source": [
    "# model.save_weights(os.path.join(out_dir, 'cp.ckpt'))"
   ]
  },
  {
   "cell_type": "code",
   "execution_count": 7,
   "metadata": {
    "id": "cQpDS_YhajeP"
   },
   "outputs": [
    {
     "data": {
      "text/plain": [
       "<tensorflow.python.checkpoint.checkpoint.CheckpointLoadStatus at 0x182f8832e80>"
      ]
     },
     "execution_count": 7,
     "metadata": {},
     "output_type": "execute_result"
    }
   ],
   "source": [
    "# load the best weights\n",
    "model.load_weights(os.path.join(out_dir, 'cp.ckpt'))"
   ]
  },
  {
   "cell_type": "code",
   "execution_count": 8,
   "metadata": {
    "colab": {
     "base_uri": "https://localhost:8080/",
     "height": 367
    },
    "id": "C9hur5ABktOI",
    "outputId": "ed88d296-d8b0-4a83-8e96-1937e4923c26"
   },
   "outputs": [
    {
     "data": {
      "image/png": "[encoded data removed]",
      "text/plain": [
       "<Figure size 1500x500 with 2 Axes>"
      ]
     },
     "metadata": {},
     "output_type": "display_data"
    }
   ],
   "source": [
    "# plot epoch vs loss, epoch vs RMSE\n",
    "plt.figure(figsize=(15,5))\n",
    "\n",
    "epochs = len(model_history.history['loss'])\n",
    "\n",
    "plt.subplot(1,2,1)\n",
    "plt.plot(np.arange(0,epochs,1), model_history.history['loss'], '-', label='train_loss')\n",
    "plt.plot(np.arange(0,epochs,1), model_history.history['val_loss'], '--', label='val_loss', )\n",
    "plt.xlabel('epochs')\n",
    "plt.ylabel('MeanSquaredLoss')\n",
    "#plt.title('epoch vs loss')\n",
    "plt.legend()\n",
    "\n",
    "plt.subplot(1,2,2)\n",
    "plt.plot(np.arange(0,epochs,1), model_history.history['root_mean_squared_error'], '-', label='train_rmse')\n",
    "plt.plot(np.arange(0,epochs,1), model_history.history['val_root_mean_squared_error'], '--', label='val_rmse')\n",
    "plt.xlabel('epochs')\n",
    "plt.ylabel('RMSE')\n",
    "#plt.title('epoch vs RMSE')\n",
    "plt.legend()\n",
    "plt.savefig(os.path.join(out_dir,'05_epoch_vs_loss.pdf'))\n",
    "plt.show()"
   ]
  },
  {
   "cell_type": "code",
   "execution_count": 26,
   "metadata": {
    "id": "g__uGFnmkySW"
   },
   "outputs": [],
   "source": [
    "#model.evaluate(test_dataset)"
   ]
  },
  {
   "cell_type": "markdown",
   "metadata": {},
   "source": [
    "# Sample Reconstruction"
   ]
  },
  {
   "cell_type": "code",
   "execution_count": 9,
   "metadata": {
    "id": "tJl9Sye_UjUS"
   },
   "outputs": [],
   "source": [
    "# Reconstruct \n",
    "z_reconstruct = np.linspace(0,8.5,212)[::-1]\n",
    "z_reconstruct = np.expand_dims(strided_app(z_reconstruct, window_size, 1), axis=-1)"
   ]
  },
  {
   "cell_type": "code",
   "execution_count": 10,
   "metadata": {
    "id": "LxXx6jz0DMWc"
   },
   "outputs": [
    {
     "name": "stdout",
     "output_type": "stream",
     "text": [
      "21/21 [==============================] - 1s 4ms/step\n"
     ]
    }
   ],
   "source": [
    "mu_reconstruct = model.predict(z_reconstruct, batch_size=BATCH_SIZE)\n",
    "mu_reconstruct = mu_scaler.inverse_transform(mu_reconstruct.reshape(-1,4))"
   ]
  },
  {
   "cell_type": "code",
   "execution_count": 11,
   "metadata": {
    "colab": {
     "base_uri": "https://localhost:8080/",
     "height": 295
    },
    "id": "3CK_F3C0IwR0",
    "outputId": "8377ff59-db1c-4cde-cfaa-37582da942e7"
   },
   "outputs": [
    {
     "data": {
      "image/png": "[encoded data removed]",
      "text/plain": [
       "<Figure size 640x480 with 1 Axes>"
      ]
     },
     "metadata": {},
     "output_type": "display_data"
    }
   ],
   "source": [
    "# plot reconstructed z vs mu\n",
    "plt.plot(z_reconstruct[:,-1].flatten(), mu_reconstruct[:,-1].flatten(), '.',color='b');\n",
    "plt.xlabel('redshift(z)')\n",
    "plt.ylabel('distance modulus(mu)')\n",
    "#plt.title('Distance modulus vs redshift')\n",
    "plt.savefig(os.path.join(out_dir,'06_sample_reconstruction.pdf'))\n",
    "plt.show()"
   ]
  },
  {
   "cell_type": "markdown",
   "metadata": {},
   "source": [
    "# Sample Reconstruction with uncertainity"
   ]
  },
  {
   "cell_type": "code",
   "execution_count": 30,
   "metadata": {
    "id": "KnX3h6Q53PzN"
   },
   "outputs": [],
   "source": [
    "model_u = model_uncertainity()"
   ]
  },
  {
   "cell_type": "code",
   "execution_count": 31,
   "metadata": {
    "id": "1z6LLXtS3GJo"
   },
   "outputs": [
    {
     "data": {
      "text/plain": [
       "<tensorflow.python.training.tracking.util.CheckpointLoadStatus at 0x7f53780b45b0>"
      ]
     },
     "execution_count": 31,
     "metadata": {},
     "output_type": "execute_result"
    }
   ],
   "source": [
    "model_u.load_weights(os.path.join(out_dir,'cp.ckpt'))"
   ]
  },
  {
   "cell_type": "code",
   "execution_count": 32,
   "metadata": {
    "id": "5FyLzv8BaTyT"
   },
   "outputs": [],
   "source": [
    "model_u.compile(optimizer=tf.keras.optimizers.Adam(1e-3), loss=tf.keras.losses.MeanSquaredError(), metrics=tf.keras.metrics.RootMeanSquaredError())"
   ]
  },
  {
   "cell_type": "code",
   "execution_count": 33,
   "metadata": {},
   "outputs": [],
   "source": [
    "mu_reconstruct_uncertainity = []\n",
    "n = 1000\n",
    "for i in range(n):\n",
    "    y_pred = model_u.predict(z_reconstruct, batch_size=500)[:,-1].flatten()\n",
    "    y_pred = mu_scaler.inverse_transform(y_pred.reshape(-1,1))\n",
    "    mu_reconstruct_uncertainity.append(y_pred)"
   ]
  },
  {
   "cell_type": "code",
   "execution_count": 34,
   "metadata": {
    "id": "9LoRnjc3Erwt"
   },
   "outputs": [],
   "source": [
    "mu_reconstruct_uncertainity = np.array(mu_reconstruct_uncertainity)\n",
    "mean = np.mean(mu_reconstruct_uncertainity, axis=0).flatten()\n",
    "std_dev = np.std(mu_reconstruct_uncertainity, axis=0).flatten()"
   ]
  },
  {
   "cell_type": "code",
   "execution_count": 35,
   "metadata": {},
   "outputs": [],
   "source": [
    "# z_reconstruct = z_scaler.inverse_transform(z_reconstruct[:,-1]) "
   ]
  },
  {
   "cell_type": "code",
   "execution_count": 36,
   "metadata": {
    "colab": {
     "base_uri": "https://localhost:8080/",
     "height": 295
    },
    "id": "EZGXBrCkHl1E",
    "outputId": "1084c1fe-58bd-4444-d32b-0b86c43206c4",
    "scrolled": false
   },
   "outputs": [
    {
     "name": "stderr",
     "output_type": "stream",
     "text": [
      "/tmp/ipykernel_178825/344823818.py:16: UserWarning: color is redundantly defined by the 'color' keyword argument and the fmt string \".r\" (-> color='r'). The keyword argument will take precedence.\n",
      "  plt.errorbar(df_SNe['zCMB'], df_SNe['MU'], yerr=df_SNe['MUERR'], fmt='.r', label=dataset+' Sample', color='r');\n"
     ]
    },
    {
     "data": {
      "image/png": "[encoded data removed]",
      "text/plain": [
       "<Figure size 432x288 with 1 Axes>"
      ]
     },
     "metadata": {
      "needs_background": "light"
     },
     "output_type": "display_data"
    }
   ],
   "source": [
    "#plt.figure(figsize=(10,7))\n",
    "plt.fill_between(\n",
    "    z_reconstruct[:,-1].flatten(), \n",
    "    mean-3*std_dev, mean+3*std_dev,\n",
    "    label='Reconstruction in 3 sigma',color='b', alpha=0.1)\n",
    "plt.fill_between(\n",
    "    z_reconstruct[:,-1].flatten(), \n",
    "    mean-2*std_dev, mean+2*std_dev,\n",
    "    label='Reconstruction in 2 sigma',color='b', alpha=0.3)\n",
    "plt.fill_between(\n",
    "    z_reconstruct[:,-1].flatten(), \n",
    "    mean-1*std_dev, mean+1*std_dev,\n",
    "    label='Reconstruction in 1 sigma', color='b', alpha=0.4)\n",
    "\n",
    "plt.plot(z_reconstruct[:,-1].flatten(), mean, label='Reconstruction', color='k')\n",
    "plt.errorbar(df_SNe['zCMB'], df_SNe['MU'], yerr=df_SNe['MUERR'], fmt='.r', label=dataset+' Sample', color='r');\n",
    "plt.xlabel('redshift(z)')\n",
    "plt.ylabel('distance modulus(mu)')\n",
    "#plt.title('The reconstruction of distance moduli from '+dataset+' data ')\n",
    "plt.legend()\n",
    "plt.savefig(os.path.join(out_dir,'07_sample_reconstruction_with_uncertainity.pdf'))\n",
    "plt.show()"
   ]
  },
  {
   "cell_type": "code",
   "execution_count": null,
   "metadata": {},
   "outputs": [],
   "source": []
  }
 ],
 "metadata": {
  "accelerator": "GPU",
  "colab": {
   "collapsed_sections": [],
   "name": "01-.ipynb",
   "provenance": []
  },
  "kernelspec": {
   "display_name": "Python 3 (ipykernel)",
   "language": "python",
   "name": "python3"
  },
  "language_info": {
   "codemirror_mode": {
    "name": "ipython",
    "version": 3
   },
   "file_extension": ".py",
   "mimetype": "text/x-python",
   "name": "python",
   "nbconvert_exporter": "python",
   "pygments_lexer": "ipython3",
   "version": "3.9.13"
  }
 },
 "nbformat": 4,
 "nbformat_minor": 1
}
