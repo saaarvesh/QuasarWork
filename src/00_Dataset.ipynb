{
 "cells": [
  {
   "cell_type": "code",
   "execution_count": 1,
   "id": "d41b0e9e",
   "metadata": {},
   "outputs": [],
   "source": [
    "dataset = 'quasar'\n",
    "in_filepath = '../data/quasar/QuasarDataset.xlsx'\n",
    "out_dir = '../out/quasar'"
   ]
  },
  {
   "cell_type": "code",
   "execution_count": 2,
   "id": "401af559",
   "metadata": {},
   "outputs": [],
   "source": [
    "modelname = 'gaussianprocess'\n",
    "# modelname = 'lstm'"
   ]
  },
  {
   "cell_type": "code",
   "execution_count": 3,
   "id": "c675ddf2",
   "metadata": {},
   "outputs": [],
   "source": [
    "if modelname == 'gaussianprocess':\n",
    "    out_dir += '/gp'\n",
    "else :\n",
    "    out_dir += '/lstm'"
   ]
  }
 ],
 "metadata": {
  "kernelspec": {
   "display_name": "Python 3 (ipykernel)",
   "language": "python",
   "name": "python3"
  },
  "language_info": {
   "codemirror_mode": {
    "name": "ipython",
    "version": 3
   },
   "file_extension": ".py",
   "mimetype": "text/x-python",
   "name": "python",
   "nbconvert_exporter": "python",
   "pygments_lexer": "ipython3",
   "version": "3.9.13"
  }
 },
 "nbformat": 4,
 "nbformat_minor": 5
}
